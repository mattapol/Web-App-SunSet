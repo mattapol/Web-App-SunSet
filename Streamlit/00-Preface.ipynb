{
 "cells": [
  {
   "cell_type": "markdown",
   "metadata": {},
   "source": [
    "# โครงสร้างข้อมูลฉบับภาษาไพทอน\n",
    "\n",
    "เอกสารประกอบการสอนรายวิชาโครงสร้างข้อมูลได้ถูกแปล ดัดแปลง และเรียบเรียงจาก [interactivepython](http://interactivepython.org/runestone/static/pythonds/index.html) ดังนั้นจึงมีการนำรูปมาใช้โดยทุกครั้งจะมีการอ้างอิง\n",
    "\n",
    "เรื่องการใช้ภาษา มีเจตนาที่จะใช้ตามหลักของราชบัณฑิต แต่จะมีตัวย่อบางตัวเช่น ADT BST ที่ตั้งใจใช้เพื่อลดความเยิ่นเย้อ ในส่วนของภาษาอังกฤษคำอื่น เช่น list string queue ฯลฯ ล้วนเป็นการอ้างถึงชนิดข้อมูลหรือคลาสของ python หรือคลาสที่สร้างขึ้น หาได้เป็นการใช้ภาษาอังกฤษแทรกในภาษาไทย\n"
   ]
  },
  {
   "cell_type": "code",
   "execution_count": 1,
   "metadata": {},
   "outputs": [
    {
     "name": "stdout",
     "output_type": "stream",
     "text": [
      "5 8 9 10 12 7 4\n",
      "['5', '8', '9', '10', '12', '7', '4']\n",
      "step : \n",
      "5\n",
      "step : \n",
      "5\n",
      "8\n",
      "step : \n",
      "5\n",
      "8 9\n",
      "step : \n",
      "5\n",
      "8 9\n",
      "10\n",
      "step : \n",
      "5\n",
      "8 9\n",
      "10 12\n",
      "step : \n",
      "5\n",
      "8 7\n",
      "10 12 9\n",
      "step : \n",
      "4\n",
      "8 5\n",
      "10 12 9 7\n",
      "[0, 4, 8, 5, 10, 12, 9, 7]\n"
     ]
    }
   ],
   "source": [
    "class heapx:\n",
    "    heapdata = []\n",
    "    def __init__(self):\n",
    "        self.heapdata.append(0)\n",
    "\n",
    "    def insertheap(self,x):\n",
    "        self.heapdata.append(int(x))\n",
    "        self.adjustheap()\n",
    "\n",
    "    def adjustheap(self):\n",
    "        n = len(self.heapdata)-1\n",
    "        parent = n//2\n",
    "#n = n - 1\n",
    "\n",
    "        while parent > 0 :\n",
    "            if self.heapdata[n] < self.heapdata[parent]:\n",
    "                self.swap(n,parent)\n",
    "            n = parent\n",
    "            parent = n//2\n",
    "\n",
    "    def swap(self,n,parent):\n",
    "        temp = self.heapdata[n]\n",
    "        self.heapdata[n] = self.heapdata[parent]\n",
    "        self.heapdata[parent] = temp\n",
    "\n",
    "    def printheapall(self):\n",
    "        print(self.heapdata)\n",
    "\n",
    "    def printstep(self):\n",
    "        i = 0\n",
    "        startx = pow(2,i)\n",
    "        n = len(self.heapdata)-1\n",
    "        print(\"step : \")\n",
    "        strx = \"\"\n",
    "        while startx < n+1:\n",
    "            strx = str(self.heapdata[startx])\n",
    "            j = 1\n",
    "            while j < startx and j+startx < len(self.heapdata):\n",
    "\n",
    "\n",
    "            #for j in range(startx,len(self.heapdata)-1):\n",
    "                strx = strx + \" \" + str(self.heapdata[startx + j])\n",
    "                j = j + 1\n",
    "            print(strx)\n",
    "            i = i + 1\n",
    "            startx = pow(2,i)\n",
    "\n",
    "a = input().split(' ')\n",
    "\n",
    "print(a)\n",
    "heap1 = heapx()\n",
    "for x in a:\n",
    "    heap1.insertheap(x)\n",
    "    heap1.printstep()\n",
    "heap1.printheapall()"
   ]
  },
  {
   "cell_type": "code",
   "execution_count": null,
   "metadata": {
    "collapsed": true
   },
   "outputs": [],
   "source": [
    "20\n"
   ]
  }
 ],
 "metadata": {
  "kernelspec": {
   "display_name": "Python 3",
   "language": "python",
   "name": "python3"
  },
  "language_info": {
   "codemirror_mode": {
    "name": "ipython",
    "version": 3
   },
   "file_extension": ".py",
   "mimetype": "text/x-python",
   "name": "python",
   "nbconvert_exporter": "python",
   "pygments_lexer": "ipython3",
   "version": "3.7.3"
  }
 },
 "nbformat": 4,
 "nbformat_minor": 2
}
